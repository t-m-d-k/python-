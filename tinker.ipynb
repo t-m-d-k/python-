{
 "cells": [
  {
   "cell_type": "code",
   "execution_count": 2,
   "metadata": {},
   "outputs": [],
   "source": [
    "from tkinter import *\n",
    "window=Tk()\n",
    "# add widgets here\n",
    "\n",
    "window.title('Hello Python')\n",
    "window.geometry(\"300x200+10+20\")\n",
    "window.mainloop()"
   ]
  },
  {
   "cell_type": "code",
   "execution_count": 3,
   "metadata": {},
   "outputs": [],
   "source": [
    "from tkinter import *\n",
    "window=Tk()\n",
    "btn=Button(window, text=\"This is Button widget\", fg='blue')\n",
    "btn.place(x=80, y=100)\n",
    "window.title('Hello Python')\n",
    "window.geometry(\"300x200+10+10\")\n",
    "window.mainloop()"
   ]
  },
  {
   "cell_type": "code",
   "execution_count": 4,
   "metadata": {},
   "outputs": [],
   "source": [
    "from tkinter import *\n",
    "window=Tk()\n",
    "lbl=Label(window, text=\"This is Label widget\", fg='red', font=(\"Helvetica\", 16))\n",
    "lbl.place(x=60, y=50)\n",
    "window.title('Hello Python')\n",
    "window.geometry(\"300x200+10+10\")\n",
    "window.mainloop()"
   ]
  },
  {
   "cell_type": "code",
   "execution_count": 6,
   "metadata": {},
   "outputs": [],
   "source": [
    "from tkinter import *\n",
    "window=Tk()\n",
    "btn=Button(window, text=\"This is Button widget\", fg='blue')\n",
    "btn.place(x=80, y=100)\n",
    "lbl=Label(window, text=\"This is Label widget\", fg='red', font=(\"Helvetica\", 16))\n",
    "lbl.place(x=60, y=50)\n",
    "txtfld=Entry(window, text=\"This is Entry Widget\", bd=5)\n",
    "txtfld.place(x=80, y=150)\n",
    "window.title('Hello Python')\n",
    "window.geometry(\"300x200+10+10\")\n",
    "window.mainloop()"
   ]
  },
  {
   "cell_type": "code",
   "execution_count": null,
   "metadata": {},
   "outputs": [],
   "source": [
    "from tkinter import *\n",
    "class MyWindow:\n",
    "    def __init__(self, win):\n",
    "        self.lbl1=Label(win, text='First number')\n",
    "        self.lbl2=Label(win, text='Second number')\n",
    "        self.lbl3=Label(win, text='Result')\n",
    "        self.t1=Entry(bd=3)\n",
    "        self.t2=Entry()\n",
    "        self.t3=Entry()\n",
    "        self.btn1 = Button(win, text='Add')\n",
    "        self.btn2=Button(win, text='Subtract')\n",
    "        self.lbl1.place(x=100, y=50)\n",
    "        self.t1.place(x=200, y=50)\n",
    "        self.lbl2.place(x=100, y=100)\n",
    "        self.t2.place(x=200, y=100)\n",
    "        self.b1=Button(win, text='Add', command=self.add)\n",
    "        self.b2=Button(win, text='Subtract')\n",
    "        self.b2.bind('<Button-1>', self.sub)\n",
    "        self.b1.place(x=100, y=150)\n",
    "        self.b2.place(x=200, y=150)\n",
    "        self.lbl3.place(x=100, y=200)\n",
    "        self.t3.place(x=200, y=200)\n",
    "    def add(self):\n",
    "        self.t3.delete(0, 'end')\n",
    "        num1=int(self.t1.get())\n",
    "        num2=int(self.t2.get())\n",
    "        result=num1+num2\n",
    "        self.t3.insert(END, str(result))\n",
    "    def sub(self, event):\n",
    "        self.t3.delete(0, 'end')\n",
    "        num1=int(self.t1.get())\n",
    "        num2=int(self.t2.get())\n",
    "        result=num1-num2\n",
    "        self.t3.insert(END, str(result))\n",
    "\n",
    "window=Tk()\n",
    "mywin=MyWindow(window)\n",
    "window.title('Hello Python')\n",
    "window.geometry(\"400x300+10+10\")\n",
    "window.mainloop()"
   ]
  },
  {
   "cell_type": "code",
   "execution_count": null,
   "metadata": {},
   "outputs": [],
   "source": []
  }
 ],
 "metadata": {
  "kernelspec": {
   "display_name": "Python 3",
   "language": "python",
   "name": "python3"
  },
  "language_info": {
   "codemirror_mode": {
    "name": "ipython",
    "version": 3
   },
   "file_extension": ".py",
   "mimetype": "text/x-python",
   "name": "python",
   "nbconvert_exporter": "python",
   "pygments_lexer": "ipython3",
   "version": "3.7.6"
  }
 },
 "nbformat": 4,
 "nbformat_minor": 4
}
