{
 "cells": [
  {
   "cell_type": "code",
   "execution_count": 2,
   "metadata": {},
   "outputs": [
    {
     "name": "stdout",
     "output_type": "stream",
     "text": [
      "Enter your city : chennai\n",
      "{'coord': {'lon': 80.2785, 'lat': 13.0878}, 'weather': [{'id': 721, 'main': 'Haze', 'description': 'haze', 'icon': '50d'}], 'base': 'stations', 'main': {'temp': 31.99, 'feels_like': 37.67, 'temp_min': 31.99, 'temp_max': 31.99, 'pressure': 1006, 'humidity': 62}, 'visibility': 5000, 'wind': {'speed': 5.14, 'deg': 90}, 'clouds': {'all': 75}, 'dt': 1665307311, 'sys': {'type': 1, 'id': 9218, 'country': 'IN', 'sunrise': 1665275306, 'sunset': 1665318228}, 'timezone': 19800, 'id': 1264527, 'name': 'Chennai', 'cod': 200}\n"
     ]
    }
   ],
   "source": [
    "import requests\n",
    "from pprint import pprint\n",
    "\n",
    "city = input('Enter your city : ')\n",
    "\n",
    "url = 'http://api.openweathermap.org/data/2.5/weather?q={}&appid=4c4784f2061bb212c329a6c7fbca4069&units=metric'.format(city)\n",
    "\n",
    "res = requests.get(url)\n",
    "\n",
    "data = res.json()\n",
    "print(data)\n",
    "#temp = data['coord']['main']['temp']\n",
    "# wind_speed = data['wind']['speed']\n",
    "\n",
    "# latitude = data['coord']['lat']\n",
    "# longitude = data['coord']['lon']\n",
    "\n",
    "# description = data['weather'][0]['description']\n",
    "\n",
    "# print('Temperature : {} degree celcius'.format(temp))\n",
    "# print('Wind Speed : {} m/s'.format(wind_speed))\n",
    "# print('Latitude : {}'.format(latitude))\n",
    "# print('Longitude : {}'.format(longitude))\n",
    "# print('Description : {}'.format(description))"
   ]
  },
  {
   "cell_type": "code",
   "execution_count": 4,
   "metadata": {},
   "outputs": [
    {
     "name": "stdout",
     "output_type": "stream",
     "text": [
      "Response is:\n",
      "{\n",
      "  \"error\": {\n",
      "    \"code\": \"404\",\n",
      "    \"message\": \"Resource not found\"\n",
      "  }\n",
      "}\n",
      "(0,)\n"
     ]
    }
   ],
   "source": [
    "import http.client, urllib.request\n",
    "import urllib.parse, urllib.error\n",
    "import base64, sys\n",
    "import simplejson as json\n",
    "\n",
    "# replace with subscription_key\n",
    "# you obtained after registration\n",
    "subscription_key = '23d39244dbe55173214b56ab45d56cla'\n",
    "\n",
    "headers = {\n",
    "   # Request for headers. And also replace the placeholder key with\n",
    "   # our subscription key.\n",
    "   'Content-Type': 'application/json',\n",
    "   'Ocp-Apim-Subscription-Key': subscription_key,\n",
    "}\n",
    "params = urllib.parse.urlencode({\n",
    "})\n",
    "url1 = 'IMAGE OF URL '\n",
    "body = { 'url': url1 }\n",
    "newbody =str(body)\n",
    "try:\n",
    "    conn = http.client.HTTPSConnection('westus.api.cognitive.microsoft.com')\n",
    "    conn.request(\"POST\", \"/emotion/v1.0/recognize?%s\" % params, newbody, headers)\n",
    "    response = conn.getresponse()\n",
    "    data = response.read()\n",
    "    my_parsed = json.loads(data)\n",
    "    print (\"Response is:\")\n",
    "    print (json.dumps(my_parsed, sort_keys=True, indent=2))\n",
    "    val = my_parsed[0][\"scores\"]\n",
    "    res = max(val, key = val.get)\n",
    "    print (\"\\nEmotionoutput :: \",res)\n",
    "    conn.close()\n",
    "except Exception as e:\n",
    "    print(e.args)\n"
   ]
  },
  {
   "cell_type": "code",
   "execution_count": null,
   "metadata": {},
   "outputs": [],
   "source": []
  }
 ],
 "metadata": {
  "kernelspec": {
   "display_name": "Python 3",
   "language": "python",
   "name": "python3"
  },
  "language_info": {
   "codemirror_mode": {
    "name": "ipython",
    "version": 3
   },
   "file_extension": ".py",
   "mimetype": "text/x-python",
   "name": "python",
   "nbconvert_exporter": "python",
   "pygments_lexer": "ipython3",
   "version": "3.7.6"
  }
 },
 "nbformat": 4,
 "nbformat_minor": 4
}
