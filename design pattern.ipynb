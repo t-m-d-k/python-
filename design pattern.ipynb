{
 "cells": [
  {
   "cell_type": "code",
   "execution_count": 7,
   "metadata": {},
   "outputs": [
    {
     "name": "stdout",
     "output_type": "stream",
     "text": [
      "True\n"
     ]
    }
   ],
   "source": [
    "##singleton object\n",
    "\n",
    "def singleton(cls):\n",
    "    instances = {}\n",
    "    \n",
    "    def get_instance(*args, **kwargs):\n",
    "        if cls not in instances:\n",
    "            instances[cls] = cls(*args, **kwargs)\n",
    "        return instances[cls]\n",
    "    \n",
    "    return get_instance\n",
    "\n",
    "@singleton\n",
    "class Singleton:\n",
    "    def __init__(self, value):\n",
    "        self.value = value\n",
    "\n",
    "# Usage\n",
    "obj1 = Singleton(1)\n",
    "obj2 = Singleton(2)\n",
    "\n",
    "print(obj1 is obj2)  # True, obj1 and obj2 are the same instance\n"
   ]
  },
  {
   "cell_type": "code",
   "execution_count": 8,
   "metadata": {},
   "outputs": [
    {
     "name": "stdout",
     "output_type": "stream",
     "text": [
      "<__main__.Singleton object at 0x000002591C16C988>\n"
     ]
    }
   ],
   "source": [
    "print(obj1)"
   ]
  },
  {
   "cell_type": "code",
   "execution_count": 9,
   "metadata": {},
   "outputs": [
    {
     "name": "stdout",
     "output_type": "stream",
     "text": [
      "<__main__.Singleton object at 0x000002591C16C988>\n"
     ]
    }
   ],
   "source": [
    "print(obj2)"
   ]
  },
  {
   "cell_type": "code",
   "execution_count": 10,
   "metadata": {},
   "outputs": [],
   "source": [
    "##FSCTORY DESIGN PATTERN"
   ]
  },
  {
   "cell_type": "code",
   "execution_count": 11,
   "metadata": {},
   "outputs": [
    {
     "name": "stdout",
     "output_type": "stream",
     "text": [
      "Woof!\n",
      "Meow!\n"
     ]
    }
   ],
   "source": [
    "# Define a base class\n",
    "class Animal:\n",
    "    def speak(self):\n",
    "        pass\n",
    "\n",
    "# Define concrete subclasses\n",
    "class Dog(Animal):\n",
    "    def speak(self):\n",
    "        return \"Woof!\"\n",
    "\n",
    "class Cat(Animal):\n",
    "    def speak(self):\n",
    "        return \"Meow!\"\n",
    "\n",
    "# Create a factory class\n",
    "class AnimalFactory:\n",
    "    def create_animal(self, animal_type):\n",
    "        if animal_type == \"dog\":\n",
    "            return Dog()\n",
    "        elif animal_type == \"cat\":\n",
    "            return Cat()\n",
    "        else:\n",
    "            raise ValueError(\"Invalid animal type\")\n",
    "\n",
    "# Usage\n",
    "factory = AnimalFactory()\n",
    "\n",
    "dog = factory.create_animal(\"dog\")\n",
    "cat = factory.create_animal(\"cat\")\n",
    "\n",
    "print(dog.speak())  # Output: Woof!\n",
    "print(cat.speak())  # Output: Meow!\n"
   ]
  },
  {
   "cell_type": "code",
   "execution_count": 12,
   "metadata": {},
   "outputs": [],
   "source": [
    "#builder design pattern "
   ]
  },
  {
   "cell_type": "code",
   "execution_count": null,
   "metadata": {},
   "outputs": [],
   "source": [
    "# The key idea behind the Builder pattern is to provide a clear and fluent way to build objects.\n",
    "#Instead of having a constructor with a long list of parameters or optional arguments, \n",
    "#you create a separate builder class that is responsible for constructing the object. This builder class has methods for setting individual attributes or components of the object, \n",
    "#and it returns the fully constructed object when you're done."
   ]
  },
  {
   "cell_type": "code",
   "execution_count": 13,
   "metadata": {},
   "outputs": [
    {
     "name": "stdout",
     "output_type": "stream",
     "text": [
      "Computer: CPU=Intel Core i9, Memory=32GB DDR4, Storage=1TB SSD, Graphics Card=NVIDIA GeForce RTX 3080\n",
      "Computer: CPU=Intel Core i5, Memory=16GB DDR4, Storage=512GB SSD, Graphics Card=Integrated Graphics\n"
     ]
    }
   ],
   "source": [
    "# Product class (the object we want to build)\n",
    "class Computer:\n",
    "    def __init__(self, cpu, memory, storage, graphics_card):\n",
    "        self.cpu = cpu\n",
    "        self.memory = memory\n",
    "        self.storage = storage\n",
    "        self.graphics_card = graphics_card\n",
    "\n",
    "    def __str__(self):\n",
    "        return f\"Computer: CPU={self.cpu}, Memory={self.memory}, Storage={self.storage}, Graphics Card={self.graphics_card}\"\n",
    "\n",
    "# Builder class\n",
    "class ComputerBuilder:\n",
    "    def __init__(self):\n",
    "        self.cpu = None\n",
    "        self.memory = None\n",
    "        self.storage = None\n",
    "        self.graphics_card = None\n",
    "\n",
    "    def set_cpu(self, cpu):\n",
    "        self.cpu = cpu\n",
    "        return self\n",
    "\n",
    "    def set_memory(self, memory):\n",
    "        self.memory = memory\n",
    "        return self\n",
    "\n",
    "    def set_storage(self, storage):\n",
    "        self.storage = storage\n",
    "        return self\n",
    "\n",
    "    def set_graphics_card(self, graphics_card):\n",
    "        self.graphics_card = graphics_card\n",
    "        return self\n",
    "\n",
    "    def build(self):\n",
    "        return Computer(self.cpu, self.memory, self.storage, self.graphics_card)\n",
    "\n",
    "# Director class (optional, for a more controlled construction process)\n",
    "class Director:\n",
    "    def __init__(self, builder):\n",
    "        self.builder = builder\n",
    "\n",
    "    def construct_gaming_computer(self):\n",
    "        self.builder.set_cpu(\"Intel Core i9\")\n",
    "        self.builder.set_memory(\"32GB DDR4\")\n",
    "        self.builder.set_storage(\"1TB SSD\")\n",
    "        self.builder.set_graphics_card(\"NVIDIA GeForce RTX 3080\")\n",
    "\n",
    "    def construct_office_computer(self):\n",
    "        self.builder.set_cpu(\"Intel Core i5\")\n",
    "        self.builder.set_memory(\"16GB DDR4\")\n",
    "        self.builder.set_storage(\"512GB SSD\")\n",
    "        self.builder.set_graphics_card(\"Integrated Graphics\")\n",
    "\n",
    "# Client code\n",
    "builder = ComputerBuilder()\n",
    "director = Director(builder)\n",
    "\n",
    "director.construct_gaming_computer()\n",
    "gaming_computer = builder.build()\n",
    "print(gaming_computer)\n",
    "\n",
    "director.construct_office_computer()\n",
    "office_computer = builder.build()\n",
    "print(office_computer)\n"
   ]
  },
  {
   "cell_type": "code",
   "execution_count": null,
   "metadata": {},
   "outputs": [],
   "source": []
  }
 ],
 "metadata": {
  "kernelspec": {
   "display_name": "Python 3",
   "language": "python",
   "name": "python3"
  },
  "language_info": {
   "codemirror_mode": {
    "name": "ipython",
    "version": 3
   },
   "file_extension": ".py",
   "mimetype": "text/x-python",
   "name": "python",
   "nbconvert_exporter": "python",
   "pygments_lexer": "ipython3",
   "version": "3.7.6"
  }
 },
 "nbformat": 4,
 "nbformat_minor": 4
}
