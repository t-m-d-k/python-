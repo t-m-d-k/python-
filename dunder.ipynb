{
 "cells": [
  {
   "cell_type": "code",
   "execution_count": 10,
   "metadata": {},
   "outputs": [
    {
     "name": "stdout",
     "output_type": "stream",
     "text": [
      "Object to print: Hello \n"
     ]
    }
   ],
   "source": [
    "# declare our own string class\n",
    "class String:\n",
    "\t\n",
    "\t# magic method to initiate object\n",
    "\tdef __init__(self, string):\n",
    "\t\tself.string = string\n",
    "\t\t\n",
    "\t# print our string object\n",
    "\tdef __str__(self):\n",
    "\t\treturn 'Object to print: {} '.format(self.string)\n",
    "    \n",
    "\t# print our string object\n",
    "\tdef __add__(self, other):\n",
    "\t\treturn 'Object to print: {} '.format(self.string + other)\n",
    "\t# print our string object\n",
    "\tdef __mul__(self, other):\n",
    "\t\treturn 'Object to print: {} '.format(self.string * other)\n",
    "    \n",
    "\tdef __eq__(self, other):\n",
    "\t\treturn self.string == other\n",
    "\n",
    "# Driver Code\n",
    "if __name__ == '__main__':\n",
    "\t\n",
    "\t# object creation\n",
    "\tstring1 = String('Hello')\n",
    "\n",
    "\t# print object location\n",
    "\tprint(string1)\n"
   ]
  },
  {
   "cell_type": "code",
   "execution_count": 11,
   "metadata": {},
   "outputs": [
    {
     "name": "stdout",
     "output_type": "stream",
     "text": [
      "Object to print: Hellotest \n"
     ]
    }
   ],
   "source": [
    "print(string1 + \"test\")"
   ]
  },
  {
   "cell_type": "code",
   "execution_count": 12,
   "metadata": {},
   "outputs": [
    {
     "name": "stdout",
     "output_type": "stream",
     "text": [
      "Object to print: HelloHelloHelloHelloHello \n"
     ]
    }
   ],
   "source": [
    "print(string1 * 5)"
   ]
  },
  {
   "cell_type": "code",
   "execution_count": 14,
   "metadata": {},
   "outputs": [
    {
     "name": "stdout",
     "output_type": "stream",
     "text": [
      "True\n"
     ]
    }
   ],
   "source": [
    "print(string1 == \"Hello\")"
   ]
  },
  {
   "cell_type": "code",
   "execution_count": 21,
   "metadata": {},
   "outputs": [
    {
     "name": "stdout",
     "output_type": "stream",
     "text": [
      "42\n"
     ]
    }
   ],
   "source": [
    "class MyClass:\n",
    "    def __init__(self):\n",
    "        self.my_attribute = None\n",
    "\n",
    "obj = MyClass()\n",
    "\n",
    "# Set the value of the 'my_attribute' attribute\n",
    "setattr(obj, 'my_attribute', 42)\n",
    "print(obj.my_attribute)  # Output: 42\n"
   ]
  },
  {
   "cell_type": "code",
   "execution_count": null,
   "metadata": {},
   "outputs": [],
   "source": []
  },
  {
   "cell_type": "code",
   "execution_count": null,
   "metadata": {},
   "outputs": [],
   "source": []
  },
  {
   "cell_type": "code",
   "execution_count": null,
   "metadata": {},
   "outputs": [],
   "source": []
  }
 ],
 "metadata": {
  "kernelspec": {
   "display_name": "Python 3",
   "language": "python",
   "name": "python3"
  },
  "language_info": {
   "codemirror_mode": {
    "name": "ipython",
    "version": 3
   },
   "file_extension": ".py",
   "mimetype": "text/x-python",
   "name": "python",
   "nbconvert_exporter": "python",
   "pygments_lexer": "ipython3",
   "version": "3.7.6"
  }
 },
 "nbformat": 4,
 "nbformat_minor": 4
}
